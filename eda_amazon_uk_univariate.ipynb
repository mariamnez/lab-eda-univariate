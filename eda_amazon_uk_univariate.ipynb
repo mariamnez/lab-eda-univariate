{
 "cells": [
  {
   "cell_type": "markdown",
   "id": "915e8dfe",
   "metadata": {},
   "source": [
    "\n",
    "# Lab — EDA Univariate Analysis: Amazon UK Product Insights\n",
    "\n",
    "Run the cells top-to-bottom. This notebook explores categories, prices, and ratings from the Amazon UK dataset and creates a short business summary.\n"
   ]
  },
  {
   "cell_type": "markdown",
   "id": "0550d166",
   "metadata": {},
   "source": [
    "\n",
    "## 0) (Optional) Install libraries\n",
    "Run only if you don't already have these packages.\n"
   ]
  },
  {
   "cell_type": "code",
   "execution_count": null,
   "id": "11679dda",
   "metadata": {},
   "outputs": [],
   "source": [
    "\n",
    "# If needed, uncomment and run:\n",
    "# !pip install -q pandas numpy matplotlib\n"
   ]
  },
  {
   "cell_type": "markdown",
   "id": "2dc65539",
   "metadata": {},
   "source": [
    "\n",
    "## 1) Load the dataset\n",
    "- Download the dataset from the Kaggle link in your README.\n",
    "- Put the CSV next to this notebook (or use a full path).\n",
    "- Set `DATA_PATH` accordingly.\n"
   ]
  },
  {
   "cell_type": "code",
   "execution_count": null,
   "id": "87507f17",
   "metadata": {},
   "outputs": [],
   "source": [
    "\n",
    "from pathlib import Path\n",
    "import pandas as pd\n",
    "import numpy as np\n",
    "\n",
    "# >>> CHANGE THIS to your actual CSV filename or full path\n",
    "DATA_PATH = Path(\"amazon_uk_products.csv\")\n",
    "\n",
    "try:\n",
    "    df = pd.read_csv(DATA_PATH, low_memory=False)\n",
    "except Exception as e:\n",
    "    print(\"Default CSV load failed, trying engine='python'...\\n\", e)\n",
    "    df = pd.read_csv(DATA_PATH, low_memory=False, engine='python')\n",
    "\n",
    "print(\"Rows:\", len(df), \" Columns:\", len(df.columns))\n",
    "display(df.head(3))\n",
    "print(\"\\nColumns:\", list(df.columns))\n"
   ]
  },
  {
   "cell_type": "markdown",
   "id": "6f755b7f",
   "metadata": {},
   "source": [
    "\n",
    "## 2) Map dataset columns\n",
    "Auto-detect likely columns for category, price, and rating. Override if needed.\n"
   ]
  },
  {
   "cell_type": "code",
   "execution_count": null,
   "id": "dfc01bd2",
   "metadata": {},
   "outputs": [],
   "source": [
    "\n",
    "def _normalize(name: str) -> str:\n",
    "    return name.strip().lower().replace(\" \", \"_\").replace(\"-\", \"_\")\n",
    "\n",
    "def guess_column(df, candidates):\n",
    "    cols = { _normalize(c): c for c in df.columns }\n",
    "    for cand in candidates:\n",
    "        key = _normalize(cand)\n",
    "        if key in cols:\n",
    "            return cols[key]\n",
    "        for k, orig in cols.items():\n",
    "            if key in k:\n",
    "                return orig\n",
    "    return None\n",
    "\n",
    "category_candidates = [\"category\", \"categories\", \"product_category\", \"main_category\", \"item_category\"]\n",
    "price_candidates    = [\"price\", \"current_price\", \"sale_price\", \"offer_price\", \"discounted_price\", \"listing_price\", \"amount\"]\n",
    "rating_candidates   = [\"rating\", \"ratings\", \"stars\", \"review_rating\", \"avg_rating\", \"star_rating\"]\n",
    "\n",
    "col_category = guess_column(df, category_candidates)\n",
    "col_price    = guess_column(df, price_candidates)\n",
    "col_rating   = guess_column(df, rating_candidates)\n",
    "\n",
    "print(\"Auto-detected:\")\n",
    "print(\"  category ->\", col_category)\n",
    "print(\"  price    ->\", col_price)\n",
    "print(\"  rating   ->\", col_rating)\n",
    "\n",
    "# # If needed, override here, e.g.:\n",
    "# col_category = \"Category\"\n",
    "# col_price    = \"Price\"\n",
    "# col_rating   = \"Rating\"\n",
    "\n",
    "if col_category is None or col_price is None:\n",
    "    raise ValueError(\"Please set col_category and col_price to valid column names and re-run.\")\n"
   ]
  },
  {
   "cell_type": "markdown",
   "id": "b6325503",
   "metadata": {},
   "source": [
    "\n",
    "## 3) Clean price & rating\n",
    "Converts price to numeric and rating to 0–5 range where possible.\n"
   ]
  },
  {
   "cell_type": "code",
   "execution_count": null,
   "id": "cc76b54b",
   "metadata": {},
   "outputs": [],
   "source": [
    "\n",
    "import re\n",
    "\n",
    "def to_numeric_price(s):\n",
    "    if pd.isna(s): return np.nan\n",
    "    if isinstance(s, (int, float)): return float(s)\n",
    "    s = str(s).replace(\",\", \".\")\n",
    "    s = re.sub(r\"[^0-9.]\", \"\", s)\n",
    "    try:\n",
    "        return float(s) if s else np.nan\n",
    "    except:\n",
    "        return np.nan\n",
    "\n",
    "df_clean = df.copy()\n",
    "df_clean[\"_price\"] = df_clean[col_price].apply(to_numeric_price)\n",
    "df_clean.loc[df_clean[\"_price\"] < 0, \"_price\"] = np.nan\n",
    "\n",
    "if col_rating in df_clean.columns:\n",
    "    df_clean[\"_rating\"] = pd.to_numeric(df_clean[col_rating], errors=\"coerce\")\n",
    "    df_clean.loc[(df_clean[\"_rating\"] < 0) | (df_clean[\"_rating\"] > 5), \"_rating\"] = np.nan\n",
    "else:\n",
    "    df_clean[\"_rating\"] = np.nan\n",
    "\n",
    "df_clean[[col_category, \"_price\", \"_rating\"]].head(5)\n"
   ]
  },
  {
   "cell_type": "markdown",
   "id": "fafddcf5",
   "metadata": {},
   "source": [
    "\n",
    "# Part 1 — Categories\n"
   ]
  },
  {
   "cell_type": "code",
   "execution_count": null,
   "id": "bd37b876",
   "metadata": {},
   "outputs": [],
   "source": [
    "\n",
    "freq_cat = (df_clean[col_category]\n",
    "            .astype(str).str.strip()\n",
    "            .replace({\"\": np.nan}).dropna()\n",
    "            .value_counts()\n",
    "            .rename_axis(\"category\")\n",
    "            .reset_index(name=\"count\"))\n",
    "\n",
    "display(freq_cat.head(10))\n",
    "freq_cat.to_csv(\"frequency_table_categories.csv\", index=False)\n",
    "print(\"Saved: frequency_table_categories.csv\")\n"
   ]
  },
  {
   "cell_type": "code",
   "execution_count": null,
   "id": "e80273ed",
   "metadata": {},
   "outputs": [],
   "source": [
    "\n",
    "import matplotlib.pyplot as plt\n",
    "\n",
    "top_n = 15\n",
    "subset = freq_cat.head(top_n)\n",
    "\n",
    "plt.figure()\n",
    "plt.bar(subset[\"category\"], subset[\"count\"])\n",
    "plt.xticks(rotation=45, ha=\"right\")\n",
    "plt.title(\"Top categories by count\")\n",
    "plt.xlabel(\"Category\")\n",
    "plt.ylabel(\"Count\")\n",
    "plt.tight_layout()\n",
    "plt.show()\n"
   ]
  },
  {
   "cell_type": "code",
   "execution_count": null,
   "id": "94379226",
   "metadata": {},
   "outputs": [],
   "source": [
    "\n",
    "plt.figure()\n",
    "plt.pie(subset[\"count\"], labels=subset[\"category\"], autopct=\"%1.1f%%\")\n",
    "plt.title(\"Proportion of top categories\")\n",
    "plt.tight_layout()\n",
    "plt.show()\n"
   ]
  },
  {
   "cell_type": "markdown",
   "id": "18c66e48",
   "metadata": {},
   "source": [
    "\n",
    "# Part 2 — Prices\n"
   ]
  },
  {
   "cell_type": "code",
   "execution_count": null,
   "id": "fa865b27",
   "metadata": {},
   "outputs": [],
   "source": [
    "\n",
    "price_series = df_clean[\"_price\"].dropna()\n",
    "print(\"Mean:\", round(price_series.mean(), 2))\n",
    "print(\"Median:\", round(price_series.median(), 2))\n",
    "print(\"Mode(s):\", \", \".join(map(lambda x: str(round(x,2)), price_series.mode().head(5))))\n"
   ]
  },
  {
   "cell_type": "code",
   "execution_count": null,
   "id": "b81e0c13",
   "metadata": {},
   "outputs": [],
   "source": [
    "\n",
    "variance = price_series.var()\n",
    "std_dev  = price_series.std()\n",
    "min_p, max_p = price_series.min(), price_series.max()\n",
    "price_range = max_p - min_p\n",
    "q1, q3 = price_series.quantile([0.25, 0.75])\n",
    "iqr = q3 - q1\n",
    "print(f\"Variance: {variance:.2f}\\nStd Dev: {std_dev:.2f}\\nRange: {price_range:.2f} (min={min_p:.2f}, max={max_p:.2f})\\nIQR: {iqr:.2f}\")\n"
   ]
  },
  {
   "cell_type": "code",
   "execution_count": null,
   "id": "404c775d",
   "metadata": {},
   "outputs": [],
   "source": [
    "\n",
    "plt.figure()\n",
    "plt.hist(price_series, bins=50)\n",
    "plt.title(\"Price distribution (all)\")\n",
    "plt.xlabel(\"Price\")\n",
    "plt.ylabel(\"Frequency\")\n",
    "plt.tight_layout()\n",
    "plt.show()\n",
    "\n",
    "p99 = price_series.quantile(0.99)\n",
    "price_clip = price_series[price_series <= p99]\n",
    "\n",
    "plt.figure()\n",
    "plt.hist(price_clip, bins=50)\n",
    "plt.title(\"Price distribution (<= 99th percentile)\")\n",
    "plt.xlabel(\"Price\")\n",
    "plt.ylabel(\"Frequency\")\n",
    "plt.tight_layout()\n",
    "plt.show()\n",
    "\n",
    "plt.figure()\n",
    "plt.hist(price_series[price_series > 0], bins=50)\n",
    "plt.xscale(\"log\")\n",
    "plt.title(\"Price distribution (log x-axis)\")\n",
    "plt.xlabel(\"Price (log)\")\n",
    "plt.ylabel(\"Frequency\")\n",
    "plt.tight_layout()\n",
    "plt.show()\n"
   ]
  },
  {
   "cell_type": "code",
   "execution_count": null,
   "id": "8ddbc563",
   "metadata": {},
   "outputs": [],
   "source": [
    "\n",
    "plt.figure()\n",
    "plt.boxplot(price_series, vert=True, showfliers=True)\n",
    "plt.title(\"Price — box plot (with outliers)\")\n",
    "plt.ylabel(\"Price\")\n",
    "plt.tight_layout()\n",
    "plt.show()\n"
   ]
  },
  {
   "cell_type": "markdown",
   "id": "bc9ca267",
   "metadata": {},
   "source": [
    "\n",
    "# Part 3 — Ratings\n"
   ]
  },
  {
   "cell_type": "code",
   "execution_count": null,
   "id": "76c27b38",
   "metadata": {},
   "outputs": [],
   "source": [
    "\n",
    "if df_clean[\"_rating\"].notna().sum() == 0:\n",
    "    print(\"No rating data — skipping Part 3.\")\n",
    "else:\n",
    "    rating_series = df_clean[\"_rating\"].dropna()\n",
    "    print(\"Mean:\", round(rating_series.mean(), 2))\n",
    "    print(\"Median:\", round(rating_series.median(), 2))\n",
    "    print(\"Mode(s):\", \", \".join(map(lambda x: str(round(x,2)), rating_series.mode().head(5))))\n"
   ]
  },
  {
   "cell_type": "code",
   "execution_count": null,
   "id": "cea96783",
   "metadata": {},
   "outputs": [],
   "source": [
    "\n",
    "if df_clean[\"_rating\"].notna().sum() == 0:\n",
    "    pass\n",
    "else:\n",
    "    r_var = rating_series.var()\n",
    "    r_std = rating_series.std()\n",
    "    r_q1, r_q3 = rating_series.quantile([0.25, 0.75])\n",
    "    r_iqr = r_q3 - r_q1\n",
    "    print(f\"Variance: {r_var:.3f}  Std Dev: {r_std:.3f}  IQR: {r_iqr:.3f}\")\n"
   ]
  },
  {
   "cell_type": "code",
   "execution_count": null,
   "id": "45b021de",
   "metadata": {},
   "outputs": [],
   "source": [
    "\n",
    "if df_clean[\"_rating\"].notna().sum() == 0:\n",
    "    pass\n",
    "else:\n",
    "    skew = rating_series.skew()\n",
    "    kurt = rating_series.kurt()  # excess kurtosis\n",
    "    print(f\"Skewness: {skew:.3f} | Excess kurtosis: {kurt:.3f}\")\n"
   ]
  },
  {
   "cell_type": "code",
   "execution_count": null,
   "id": "b68994b0",
   "metadata": {},
   "outputs": [],
   "source": [
    "\n",
    "if df_clean[\"_rating\"].notna().sum() == 0:\n",
    "    pass\n",
    "else:\n",
    "    import matplotlib.pyplot as plt\n",
    "    plt.figure()\n",
    "    plt.hist(rating_series, bins=10)\n",
    "    plt.title(\"Ratings distribution\")\n",
    "    plt.xlabel(\"Rating\")\n",
    "    plt.ylabel(\"Frequency\")\n",
    "    plt.tight_layout()\n",
    "    plt.show()\n"
   ]
  },
  {
   "cell_type": "markdown",
   "id": "fe5f6953",
   "metadata": {},
   "source": [
    "\n",
    "## 4) Business summary\n"
   ]
  },
  {
   "cell_type": "code",
   "execution_count": null,
   "id": "38025c44",
   "metadata": {},
   "outputs": [],
   "source": [
    "\n",
    "lines = []\n",
    "\n",
    "if 'freq_cat' in locals() and not freq_cat.empty:\n",
    "    total_products = int(freq_cat['count'].sum())\n",
    "    top5_list = \", \".join(f\"{row.category} ({row.count})\" for _, row in freq_cat.head(5).iterrows())\n",
    "    lines.append(f\"Top categories (first 5): {top5_list}. Total listings: {total_products}.\")\n",
    "else:\n",
    "    lines.append(\"Category summary unavailable.\")\n",
    "\n",
    "if 'price_series' in locals() and len(price_series) > 0:\n",
    "    q1, q3 = price_series.quantile([0.25, 0.75])\n",
    "    iqr = q3 - q1\n",
    "    lines.append(f\"Average price ~£{price_series.mean():.2f} (median £{price_series.median():.2f}), range £{price_series.min():.2f}–£{price_series.max():.2f}, IQR ~£{iqr:.2f}.\")\n",
    "else:\n",
    "    lines.append(\"Price analysis unavailable.\")\n",
    "\n",
    "if df_clean[\"_rating\"].notna().sum() > 0:\n",
    "    lines.append(f\"Average rating {rating_series.mean():.2f} (median {rating_series.median():.2f}); skew={rating_series.skew():.2f}, kurtosis={rating_series.kurt():.2f}.\")\n",
    "else:\n",
    "    lines.append(\"Rating analysis unavailable.\")\n",
    "\n",
    "report = \"\\n- \".join([\"Business Summary:\"] + lines)\n",
    "print(report)\n",
    "with open(\"business_summary.txt\", \"w\", encoding=\"utf-8\") as f:\n",
    "    f.write(report)\n",
    "print(\"\\nSaved: business_summary.txt\")\n"
   ]
  }
 ],
 "metadata": {},
 "nbformat": 4,
 "nbformat_minor": 5
}
